{
 "cells": [
  {
   "cell_type": "code",
   "execution_count": 1,
   "id": "6a97514a",
   "metadata": {
    "scrolled": true,
    "ExecuteTime": {
     "end_time": "2024-06-15T02:40:08.430181200Z",
     "start_time": "2024-06-15T02:40:08.416260200Z"
    }
   },
   "outputs": [],
   "source": [
    "import os\n",
    "\n",
    "import numpy as np\n",
    "import pandas as pd\n",
    "import seaborn as sns\n",
    "from matplotlib import pyplot as plt\n",
    "\n",
    "sns.set()"
   ]
  },
  {
   "cell_type": "markdown",
   "source": [
    "\n",
    " Derivative-Free Optimization for Least-Squares (DFO-LS) is a\n",
    " nonlinear least-squares solver that only requires function values.\n",
    "\n",
    " Documentation\n",
    " [https://numericalalgorithmsgroup.github.io/dfols/build/html/index.html](https://numericalalgorithmsgroup.github.io/dfols/build/html/index.html)\n",
    "\n",
    " Repository\n",
    " [https://github.com/numericalalgorithmsgroup/dfols](https://github.com/numericalalgorithmsgroup/dfols)\n",
    "\n",
    " Install using either:\n",
    " `conda install -c conda-forge dfo-ls`\n",
    " `pip install DFO-LS`"
   ],
   "metadata": {
    "collapsed": false
   },
   "id": "84d3650dc6ce8018"
  },
  {
   "cell_type": "code",
   "execution_count": 2,
   "outputs": [],
   "source": [
    "from dfols import solve\n"
   ],
   "metadata": {
    "collapsed": false,
    "ExecuteTime": {
     "end_time": "2024-06-15T02:40:08.463549800Z",
     "start_time": "2024-06-15T02:40:08.430181200Z"
    }
   },
   "id": "2034f24259f603cd"
  },
  {
   "cell_type": "code",
   "execution_count": 3,
   "id": "d6358028",
   "metadata": {
    "ExecuteTime": {
     "end_time": "2024-06-15T02:40:08.662119200Z",
     "start_time": "2024-06-15T02:40:08.461549500Z"
    }
   },
   "outputs": [
    {
     "name": "stdout",
     "output_type": "stream",
     "text": [
      "RP model file path: C:\\Users\\jckin\\Documents\\Untitled Folder\\RP fit\\files\n"
     ]
    }
   ],
   "source": [
    "# project files\n",
    "from rp_model.files import set_files_directory\n",
    "set_files_directory(\"../files\")\n",
    "\n",
    "from rp_model.utils import pack, table, DataStore\n",
    "from rp_model.calc import FitOptions, compute_rp, make_precomputed_columns, make_initial_guess"
   ]
  },
  {
   "cell_type": "code",
   "execution_count": 4,
   "id": "b2b22bda",
   "metadata": {
    "ExecuteTime": {
     "end_time": "2024-06-15T02:40:08.705624200Z",
     "start_time": "2024-06-15T02:40:08.662119200Z"
    }
   },
   "outputs": [],
   "source": [
    "# stuff for display\n",
    "\n",
    "from IPython.core.interactiveshell import InteractiveShell\n",
    "\n",
    "InteractiveShell.ast_node_interactivity = \"all\"\n",
    "\n",
    "# progress bar\n",
    "\n",
    "pd.set_option('display.max_columns', 100)\n",
    "pd.set_option('display.max_rows', 120)"
   ]
  },
  {
   "cell_type": "code",
   "execution_count": 5,
   "id": "079e9a71",
   "metadata": {
    "scrolled": true,
    "ExecuteTime": {
     "end_time": "2024-06-15T02:40:08.786295700Z",
     "start_time": "2024-06-15T02:40:08.676476200Z"
    }
   },
   "outputs": [
    {
     "data": {
      "text/plain": "              Level            RP        MS lvl       ModelRP    Difference  \\\ncount  11541.000000  11541.000000  11541.000000  11541.000000  11541.000000   \nmean      14.839269    797.265575      1.674898    797.266008      0.000433   \nstd        9.945906    615.837107      1.154834    615.837077      0.020811   \nmin        1.000000    245.000000      1.000000    245.000000      0.000000   \n25%        8.000000    394.000000      1.000000    394.000000      0.000000   \n50%       12.000000    584.000000      1.000000    584.000000      0.000000   \n75%       20.000000    929.000000      2.000000    929.000000      0.000000   \nmax       55.000000   5338.000000      7.000000   5338.000000      1.000000   \n\n              Freq1        Berry1         Ing1P        NrgNat  Helps per hour  \\\ncount  11541.000000  11541.000000  11541.000000  11541.000000    11541.000000   \nmean    3756.164977     28.149554    108.637380      0.993491        1.102978   \nstd     1009.463620      2.748497     15.988426      0.043885        0.345022   \nmin     2100.000000     24.000000     90.000000      0.920000        0.520000   \n25%     2800.000000     26.000000     98.000000      1.000000        0.820000   \n50%     3700.000000     28.000000    103.000000      1.000000        1.050000   \n75%     4400.000000     31.000000    115.000000      1.000000        1.350000   \nmax     6300.000000     35.000000    151.000000      1.080000        2.550000   \n\n           IngrMult     SkillMult        BerryD          IngD        SklVal  \\\ncount  11541.000000  11541.000000  11541.000000  11541.000000  11541.000000   \nmean       0.210948      0.039065     64.076856    154.928689    980.406291   \nstd        0.058564      0.022347     37.954587     70.354132    903.623248   \nmin        0.100000      0.006400     25.000000     90.000000    400.000000   \n25%        0.170000      0.020000     39.000000    101.000000    400.000000   \n50%        0.202400      0.036000     52.000000    121.000000    880.000000   \n75%        0.247900      0.050400     76.000000    206.000000   1083.000000   \nmax        0.517400      0.220000    351.000000    511.000000  12438.000000   \n\n              FreqL       HelpNat       IngrNat         Ingr%      SkillNat  \\\ncount  11541.000000  11541.000000  11541.000000  11541.000000  11541.000000   \nmean    3565.881629      0.987549      0.999307      0.203650      1.009219   \nstd     1075.090716      0.057112      0.117452      0.040759      0.120275   \nmin     1407.780000      0.900000      0.800000      0.130000      0.800000   \n25%     2656.800000      1.000000      1.000000      0.170000      1.000000   \n50%     3427.200000      1.000000      1.000000      0.200000      1.000000   \n75%     4347.200000      1.000000      1.000000      0.230000      1.000000   \nmax     6916.140000      1.100000      1.200000      0.340000      1.200000   \n\n             Skill%        BerryL    Dupes  Diff -0.1% ingr  Diff +0.1% ingr  \\\ncount  11541.000000  11541.000000  11541.0     11541.000000     11541.000000   \nmean       0.036717     42.636513      1.0        -0.677398         0.602912   \nstd        0.019606     12.343025      0.0         1.252369         1.249570   \nmin        0.010000     24.000000      1.0       -57.930000       -58.750000   \n25%        0.020000     34.000000      1.0        -0.910000         0.140000   \n50%        0.040000     40.000000      1.0        -0.506000         0.490000   \n75%        0.050000     48.000000      1.0        -0.160000         0.920000   \nmax        0.140000    117.000000      1.0         0.950000         7.840000   \n\n               Diff          Amnt         Ing2P     MiscMult  RP Multiplier  \\\ncount  11541.000000  11541.000000  11541.000000  7940.000000   11541.000000   \nmean      -0.037119      0.252924     12.261589     1.054267       1.043974   \nstd        1.013367      0.874277     39.561162     0.103810       0.085322   \nmin      -58.340000      0.000000      0.000000     0.920000       1.000000   \n25%       -0.250000      0.000000      0.000000     1.000000       1.000000   \n50%       -0.001600      0.000000      0.000000     1.000000       1.000000   \n75%        0.240000      0.000000      0.000000     1.120000       1.000000   \nmax        0.510000      8.000000    342.000000     1.550000       1.440000   \n\n           HelpSub      IngrSub     SkillSub  \ncount  7940.000000  7940.000000  7940.000000  \nmean      0.973472     1.046428     1.060438  \nstd       0.051903     0.113089     0.126464  \nmin       0.790000     1.000000     1.000000  \n25%       1.000000     1.000000     1.000000  \n50%       1.000000     1.000000     1.000000  \n75%       1.000000     1.000000     1.000000  \nmax       1.000000     1.540000     1.540000  ",
      "text/html": "<div>\n<style scoped>\n    .dataframe tbody tr th:only-of-type {\n        vertical-align: middle;\n    }\n\n    .dataframe tbody tr th {\n        vertical-align: top;\n    }\n\n    .dataframe thead th {\n        text-align: right;\n    }\n</style>\n<table border=\"1\" class=\"dataframe\">\n  <thead>\n    <tr style=\"text-align: right;\">\n      <th></th>\n      <th>Level</th>\n      <th>RP</th>\n      <th>MS lvl</th>\n      <th>ModelRP</th>\n      <th>Difference</th>\n      <th>Freq1</th>\n      <th>Berry1</th>\n      <th>Ing1P</th>\n      <th>NrgNat</th>\n      <th>Helps per hour</th>\n      <th>IngrMult</th>\n      <th>SkillMult</th>\n      <th>BerryD</th>\n      <th>IngD</th>\n      <th>SklVal</th>\n      <th>FreqL</th>\n      <th>HelpNat</th>\n      <th>IngrNat</th>\n      <th>Ingr%</th>\n      <th>SkillNat</th>\n      <th>Skill%</th>\n      <th>BerryL</th>\n      <th>Dupes</th>\n      <th>Diff -0.1% ingr</th>\n      <th>Diff +0.1% ingr</th>\n      <th>Diff</th>\n      <th>Amnt</th>\n      <th>Ing2P</th>\n      <th>MiscMult</th>\n      <th>RP Multiplier</th>\n      <th>HelpSub</th>\n      <th>IngrSub</th>\n      <th>SkillSub</th>\n    </tr>\n  </thead>\n  <tbody>\n    <tr>\n      <th>count</th>\n      <td>11541.000000</td>\n      <td>11541.000000</td>\n      <td>11541.000000</td>\n      <td>11541.000000</td>\n      <td>11541.000000</td>\n      <td>11541.000000</td>\n      <td>11541.000000</td>\n      <td>11541.000000</td>\n      <td>11541.000000</td>\n      <td>11541.000000</td>\n      <td>11541.000000</td>\n      <td>11541.000000</td>\n      <td>11541.000000</td>\n      <td>11541.000000</td>\n      <td>11541.000000</td>\n      <td>11541.000000</td>\n      <td>11541.000000</td>\n      <td>11541.000000</td>\n      <td>11541.000000</td>\n      <td>11541.000000</td>\n      <td>11541.000000</td>\n      <td>11541.000000</td>\n      <td>11541.0</td>\n      <td>11541.000000</td>\n      <td>11541.000000</td>\n      <td>11541.000000</td>\n      <td>11541.000000</td>\n      <td>11541.000000</td>\n      <td>7940.000000</td>\n      <td>11541.000000</td>\n      <td>7940.000000</td>\n      <td>7940.000000</td>\n      <td>7940.000000</td>\n    </tr>\n    <tr>\n      <th>mean</th>\n      <td>14.839269</td>\n      <td>797.265575</td>\n      <td>1.674898</td>\n      <td>797.266008</td>\n      <td>0.000433</td>\n      <td>3756.164977</td>\n      <td>28.149554</td>\n      <td>108.637380</td>\n      <td>0.993491</td>\n      <td>1.102978</td>\n      <td>0.210948</td>\n      <td>0.039065</td>\n      <td>64.076856</td>\n      <td>154.928689</td>\n      <td>980.406291</td>\n      <td>3565.881629</td>\n      <td>0.987549</td>\n      <td>0.999307</td>\n      <td>0.203650</td>\n      <td>1.009219</td>\n      <td>0.036717</td>\n      <td>42.636513</td>\n      <td>1.0</td>\n      <td>-0.677398</td>\n      <td>0.602912</td>\n      <td>-0.037119</td>\n      <td>0.252924</td>\n      <td>12.261589</td>\n      <td>1.054267</td>\n      <td>1.043974</td>\n      <td>0.973472</td>\n      <td>1.046428</td>\n      <td>1.060438</td>\n    </tr>\n    <tr>\n      <th>std</th>\n      <td>9.945906</td>\n      <td>615.837107</td>\n      <td>1.154834</td>\n      <td>615.837077</td>\n      <td>0.020811</td>\n      <td>1009.463620</td>\n      <td>2.748497</td>\n      <td>15.988426</td>\n      <td>0.043885</td>\n      <td>0.345022</td>\n      <td>0.058564</td>\n      <td>0.022347</td>\n      <td>37.954587</td>\n      <td>70.354132</td>\n      <td>903.623248</td>\n      <td>1075.090716</td>\n      <td>0.057112</td>\n      <td>0.117452</td>\n      <td>0.040759</td>\n      <td>0.120275</td>\n      <td>0.019606</td>\n      <td>12.343025</td>\n      <td>0.0</td>\n      <td>1.252369</td>\n      <td>1.249570</td>\n      <td>1.013367</td>\n      <td>0.874277</td>\n      <td>39.561162</td>\n      <td>0.103810</td>\n      <td>0.085322</td>\n      <td>0.051903</td>\n      <td>0.113089</td>\n      <td>0.126464</td>\n    </tr>\n    <tr>\n      <th>min</th>\n      <td>1.000000</td>\n      <td>245.000000</td>\n      <td>1.000000</td>\n      <td>245.000000</td>\n      <td>0.000000</td>\n      <td>2100.000000</td>\n      <td>24.000000</td>\n      <td>90.000000</td>\n      <td>0.920000</td>\n      <td>0.520000</td>\n      <td>0.100000</td>\n      <td>0.006400</td>\n      <td>25.000000</td>\n      <td>90.000000</td>\n      <td>400.000000</td>\n      <td>1407.780000</td>\n      <td>0.900000</td>\n      <td>0.800000</td>\n      <td>0.130000</td>\n      <td>0.800000</td>\n      <td>0.010000</td>\n      <td>24.000000</td>\n      <td>1.0</td>\n      <td>-57.930000</td>\n      <td>-58.750000</td>\n      <td>-58.340000</td>\n      <td>0.000000</td>\n      <td>0.000000</td>\n      <td>0.920000</td>\n      <td>1.000000</td>\n      <td>0.790000</td>\n      <td>1.000000</td>\n      <td>1.000000</td>\n    </tr>\n    <tr>\n      <th>25%</th>\n      <td>8.000000</td>\n      <td>394.000000</td>\n      <td>1.000000</td>\n      <td>394.000000</td>\n      <td>0.000000</td>\n      <td>2800.000000</td>\n      <td>26.000000</td>\n      <td>98.000000</td>\n      <td>1.000000</td>\n      <td>0.820000</td>\n      <td>0.170000</td>\n      <td>0.020000</td>\n      <td>39.000000</td>\n      <td>101.000000</td>\n      <td>400.000000</td>\n      <td>2656.800000</td>\n      <td>1.000000</td>\n      <td>1.000000</td>\n      <td>0.170000</td>\n      <td>1.000000</td>\n      <td>0.020000</td>\n      <td>34.000000</td>\n      <td>1.0</td>\n      <td>-0.910000</td>\n      <td>0.140000</td>\n      <td>-0.250000</td>\n      <td>0.000000</td>\n      <td>0.000000</td>\n      <td>1.000000</td>\n      <td>1.000000</td>\n      <td>1.000000</td>\n      <td>1.000000</td>\n      <td>1.000000</td>\n    </tr>\n    <tr>\n      <th>50%</th>\n      <td>12.000000</td>\n      <td>584.000000</td>\n      <td>1.000000</td>\n      <td>584.000000</td>\n      <td>0.000000</td>\n      <td>3700.000000</td>\n      <td>28.000000</td>\n      <td>103.000000</td>\n      <td>1.000000</td>\n      <td>1.050000</td>\n      <td>0.202400</td>\n      <td>0.036000</td>\n      <td>52.000000</td>\n      <td>121.000000</td>\n      <td>880.000000</td>\n      <td>3427.200000</td>\n      <td>1.000000</td>\n      <td>1.000000</td>\n      <td>0.200000</td>\n      <td>1.000000</td>\n      <td>0.040000</td>\n      <td>40.000000</td>\n      <td>1.0</td>\n      <td>-0.506000</td>\n      <td>0.490000</td>\n      <td>-0.001600</td>\n      <td>0.000000</td>\n      <td>0.000000</td>\n      <td>1.000000</td>\n      <td>1.000000</td>\n      <td>1.000000</td>\n      <td>1.000000</td>\n      <td>1.000000</td>\n    </tr>\n    <tr>\n      <th>75%</th>\n      <td>20.000000</td>\n      <td>929.000000</td>\n      <td>2.000000</td>\n      <td>929.000000</td>\n      <td>0.000000</td>\n      <td>4400.000000</td>\n      <td>31.000000</td>\n      <td>115.000000</td>\n      <td>1.000000</td>\n      <td>1.350000</td>\n      <td>0.247900</td>\n      <td>0.050400</td>\n      <td>76.000000</td>\n      <td>206.000000</td>\n      <td>1083.000000</td>\n      <td>4347.200000</td>\n      <td>1.000000</td>\n      <td>1.000000</td>\n      <td>0.230000</td>\n      <td>1.000000</td>\n      <td>0.050000</td>\n      <td>48.000000</td>\n      <td>1.0</td>\n      <td>-0.160000</td>\n      <td>0.920000</td>\n      <td>0.240000</td>\n      <td>0.000000</td>\n      <td>0.000000</td>\n      <td>1.120000</td>\n      <td>1.000000</td>\n      <td>1.000000</td>\n      <td>1.000000</td>\n      <td>1.000000</td>\n    </tr>\n    <tr>\n      <th>max</th>\n      <td>55.000000</td>\n      <td>5338.000000</td>\n      <td>7.000000</td>\n      <td>5338.000000</td>\n      <td>1.000000</td>\n      <td>6300.000000</td>\n      <td>35.000000</td>\n      <td>151.000000</td>\n      <td>1.080000</td>\n      <td>2.550000</td>\n      <td>0.517400</td>\n      <td>0.220000</td>\n      <td>351.000000</td>\n      <td>511.000000</td>\n      <td>12438.000000</td>\n      <td>6916.140000</td>\n      <td>1.100000</td>\n      <td>1.200000</td>\n      <td>0.340000</td>\n      <td>1.200000</td>\n      <td>0.140000</td>\n      <td>117.000000</td>\n      <td>1.0</td>\n      <td>0.950000</td>\n      <td>7.840000</td>\n      <td>0.510000</td>\n      <td>8.000000</td>\n      <td>342.000000</td>\n      <td>1.550000</td>\n      <td>1.440000</td>\n      <td>1.000000</td>\n      <td>1.540000</td>\n      <td>1.540000</td>\n    </tr>\n  </tbody>\n</table>\n</div>"
     },
     "execution_count": 5,
     "metadata": {},
     "output_type": "execute_result"
    },
    {
     "data": {
      "text/plain": "  Pokemon  Level     RP NatureEN/ZH  MS lvl                 Source  ModelRP  \\\n0   Arbok    8.0  531.0       Hardy     1.0  Questions help guides    531.0   \n1   Arbok    8.0  538.0       Quiet     1.0  Questions help guides    538.0   \n2   Arbok    9.0  528.0        Bold     1.0                           528.0   \n3   Arbok    9.0  539.0       Hardy     1.0          Double Jumper    539.0   \n4   Arbok    9.0  574.0     Naughty     1.0            Rate My Mon    574.0   \n\n   Difference   Nature              ID             NatureP            NatureN  \\\n0         0.0  Neutral  ArbokNeutral81                   -                  -   \n1         0.0    Quiet    ArbokQuiet81  Ingredient Finding          Exp Gains   \n2         0.0     Bold     ArbokBold91     Energy Recovery      Speed of Help   \n3         0.0  Neutral  ArbokNeutral91                   -                  -   \n4         0.0  Naughty  ArbokNaughty91       Speed of Help  Main Skill Chance   \n\n     Type    Class           MSkill   Freq1  Berry1          Ing1  Ing1P  \\\n0  Poison  Berries  Charge Energy S  3700.0    32.0  Bean Sausage  103.0   \n1  Poison  Berries  Charge Energy S  3700.0    32.0  Bean Sausage  103.0   \n2  Poison  Berries  Charge Energy S  3700.0    32.0  Bean Sausage  103.0   \n3  Poison  Berries  Charge Energy S  3700.0    32.0  Bean Sausage  103.0   \n4  Poison  Berries  Charge Energy S  3700.0    32.0  Bean Sausage  103.0   \n\n   NrgNat  Helps per hour  IngrMult  SkillMult  BerryD   IngD  SklVal  \\\n0    1.00            0.98      0.26       0.06    78.0  103.0   400.0   \n1    1.00            0.98      0.32       0.06    78.0  103.0   400.0   \n2    1.08            0.89      0.26       0.06    80.0  103.0   400.0   \n3    1.00            0.98      0.26       0.06    80.0  103.0   400.0   \n4    1.00            1.09      0.26       0.05    80.0  103.0   400.0   \n\n     FreqL  HelpNat  IngrNat  Ingr%  SkillNat  Skill%  BerryL  Dupes  \\\n0  3648.20      1.0      1.0   0.26       1.0    0.06      39      1   \n1  3648.20      1.0      1.2   0.26       1.0    0.06      39      1   \n2  4004.88      1.1      1.0   0.26       1.0    0.06      40      1   \n3  3640.80      1.0      1.0   0.26       1.0    0.06      40      1   \n4  3276.72      0.9      1.0   0.26       0.8    0.06      40      1   \n\n  DupeMatch  Diff -0.1% ingr  Diff +0.1% ingr    Diff Sub Skill 1 Sub Skill 2  \\\n0      True          -0.4900          -0.2200 -0.3600                           \n1      True          -0.1400           0.1300 -0.0100                           \n2      True           0.1956           0.4548  0.3252                           \n3      True          -0.4700          -0.2000 -0.3400                           \n4      True           0.1200           0.4100  0.2600                           \n\n  Ingredient 2  Amnt  Ing2P  MiscMult  RP Multiplier  HelpSub  IngrSub  \\\n0                0.0    0.0       NaN            1.0      NaN      NaN   \n1                0.0    0.0       NaN            1.0      NaN      NaN   \n2                0.0    0.0       NaN            1.0      NaN      NaN   \n3                0.0    0.0       NaN            1.0      NaN      NaN   \n4                0.0    0.0       NaN            1.0      NaN      NaN   \n\n   SkillSub Sub Skill 3  \n0       NaN              \n1       NaN              \n2       NaN              \n3       NaN              \n4       NaN              ",
      "text/html": "<div>\n<style scoped>\n    .dataframe tbody tr th:only-of-type {\n        vertical-align: middle;\n    }\n\n    .dataframe tbody tr th {\n        vertical-align: top;\n    }\n\n    .dataframe thead th {\n        text-align: right;\n    }\n</style>\n<table border=\"1\" class=\"dataframe\">\n  <thead>\n    <tr style=\"text-align: right;\">\n      <th></th>\n      <th>Pokemon</th>\n      <th>Level</th>\n      <th>RP</th>\n      <th>NatureEN/ZH</th>\n      <th>MS lvl</th>\n      <th>Source</th>\n      <th>ModelRP</th>\n      <th>Difference</th>\n      <th>Nature</th>\n      <th>ID</th>\n      <th>NatureP</th>\n      <th>NatureN</th>\n      <th>Type</th>\n      <th>Class</th>\n      <th>MSkill</th>\n      <th>Freq1</th>\n      <th>Berry1</th>\n      <th>Ing1</th>\n      <th>Ing1P</th>\n      <th>NrgNat</th>\n      <th>Helps per hour</th>\n      <th>IngrMult</th>\n      <th>SkillMult</th>\n      <th>BerryD</th>\n      <th>IngD</th>\n      <th>SklVal</th>\n      <th>FreqL</th>\n      <th>HelpNat</th>\n      <th>IngrNat</th>\n      <th>Ingr%</th>\n      <th>SkillNat</th>\n      <th>Skill%</th>\n      <th>BerryL</th>\n      <th>Dupes</th>\n      <th>DupeMatch</th>\n      <th>Diff -0.1% ingr</th>\n      <th>Diff +0.1% ingr</th>\n      <th>Diff</th>\n      <th>Sub Skill 1</th>\n      <th>Sub Skill 2</th>\n      <th>Ingredient 2</th>\n      <th>Amnt</th>\n      <th>Ing2P</th>\n      <th>MiscMult</th>\n      <th>RP Multiplier</th>\n      <th>HelpSub</th>\n      <th>IngrSub</th>\n      <th>SkillSub</th>\n      <th>Sub Skill 3</th>\n    </tr>\n  </thead>\n  <tbody>\n    <tr>\n      <th>0</th>\n      <td>Arbok</td>\n      <td>8.0</td>\n      <td>531.0</td>\n      <td>Hardy</td>\n      <td>1.0</td>\n      <td>Questions help guides</td>\n      <td>531.0</td>\n      <td>0.0</td>\n      <td>Neutral</td>\n      <td>ArbokNeutral81</td>\n      <td>-</td>\n      <td>-</td>\n      <td>Poison</td>\n      <td>Berries</td>\n      <td>Charge Energy S</td>\n      <td>3700.0</td>\n      <td>32.0</td>\n      <td>Bean Sausage</td>\n      <td>103.0</td>\n      <td>1.00</td>\n      <td>0.98</td>\n      <td>0.26</td>\n      <td>0.06</td>\n      <td>78.0</td>\n      <td>103.0</td>\n      <td>400.0</td>\n      <td>3648.20</td>\n      <td>1.0</td>\n      <td>1.0</td>\n      <td>0.26</td>\n      <td>1.0</td>\n      <td>0.06</td>\n      <td>39</td>\n      <td>1</td>\n      <td>True</td>\n      <td>-0.4900</td>\n      <td>-0.2200</td>\n      <td>-0.3600</td>\n      <td></td>\n      <td></td>\n      <td></td>\n      <td>0.0</td>\n      <td>0.0</td>\n      <td>NaN</td>\n      <td>1.0</td>\n      <td>NaN</td>\n      <td>NaN</td>\n      <td>NaN</td>\n      <td></td>\n    </tr>\n    <tr>\n      <th>1</th>\n      <td>Arbok</td>\n      <td>8.0</td>\n      <td>538.0</td>\n      <td>Quiet</td>\n      <td>1.0</td>\n      <td>Questions help guides</td>\n      <td>538.0</td>\n      <td>0.0</td>\n      <td>Quiet</td>\n      <td>ArbokQuiet81</td>\n      <td>Ingredient Finding</td>\n      <td>Exp Gains</td>\n      <td>Poison</td>\n      <td>Berries</td>\n      <td>Charge Energy S</td>\n      <td>3700.0</td>\n      <td>32.0</td>\n      <td>Bean Sausage</td>\n      <td>103.0</td>\n      <td>1.00</td>\n      <td>0.98</td>\n      <td>0.32</td>\n      <td>0.06</td>\n      <td>78.0</td>\n      <td>103.0</td>\n      <td>400.0</td>\n      <td>3648.20</td>\n      <td>1.0</td>\n      <td>1.2</td>\n      <td>0.26</td>\n      <td>1.0</td>\n      <td>0.06</td>\n      <td>39</td>\n      <td>1</td>\n      <td>True</td>\n      <td>-0.1400</td>\n      <td>0.1300</td>\n      <td>-0.0100</td>\n      <td></td>\n      <td></td>\n      <td></td>\n      <td>0.0</td>\n      <td>0.0</td>\n      <td>NaN</td>\n      <td>1.0</td>\n      <td>NaN</td>\n      <td>NaN</td>\n      <td>NaN</td>\n      <td></td>\n    </tr>\n    <tr>\n      <th>2</th>\n      <td>Arbok</td>\n      <td>9.0</td>\n      <td>528.0</td>\n      <td>Bold</td>\n      <td>1.0</td>\n      <td></td>\n      <td>528.0</td>\n      <td>0.0</td>\n      <td>Bold</td>\n      <td>ArbokBold91</td>\n      <td>Energy Recovery</td>\n      <td>Speed of Help</td>\n      <td>Poison</td>\n      <td>Berries</td>\n      <td>Charge Energy S</td>\n      <td>3700.0</td>\n      <td>32.0</td>\n      <td>Bean Sausage</td>\n      <td>103.0</td>\n      <td>1.08</td>\n      <td>0.89</td>\n      <td>0.26</td>\n      <td>0.06</td>\n      <td>80.0</td>\n      <td>103.0</td>\n      <td>400.0</td>\n      <td>4004.88</td>\n      <td>1.1</td>\n      <td>1.0</td>\n      <td>0.26</td>\n      <td>1.0</td>\n      <td>0.06</td>\n      <td>40</td>\n      <td>1</td>\n      <td>True</td>\n      <td>0.1956</td>\n      <td>0.4548</td>\n      <td>0.3252</td>\n      <td></td>\n      <td></td>\n      <td></td>\n      <td>0.0</td>\n      <td>0.0</td>\n      <td>NaN</td>\n      <td>1.0</td>\n      <td>NaN</td>\n      <td>NaN</td>\n      <td>NaN</td>\n      <td></td>\n    </tr>\n    <tr>\n      <th>3</th>\n      <td>Arbok</td>\n      <td>9.0</td>\n      <td>539.0</td>\n      <td>Hardy</td>\n      <td>1.0</td>\n      <td>Double Jumper</td>\n      <td>539.0</td>\n      <td>0.0</td>\n      <td>Neutral</td>\n      <td>ArbokNeutral91</td>\n      <td>-</td>\n      <td>-</td>\n      <td>Poison</td>\n      <td>Berries</td>\n      <td>Charge Energy S</td>\n      <td>3700.0</td>\n      <td>32.0</td>\n      <td>Bean Sausage</td>\n      <td>103.0</td>\n      <td>1.00</td>\n      <td>0.98</td>\n      <td>0.26</td>\n      <td>0.06</td>\n      <td>80.0</td>\n      <td>103.0</td>\n      <td>400.0</td>\n      <td>3640.80</td>\n      <td>1.0</td>\n      <td>1.0</td>\n      <td>0.26</td>\n      <td>1.0</td>\n      <td>0.06</td>\n      <td>40</td>\n      <td>1</td>\n      <td>True</td>\n      <td>-0.4700</td>\n      <td>-0.2000</td>\n      <td>-0.3400</td>\n      <td></td>\n      <td></td>\n      <td></td>\n      <td>0.0</td>\n      <td>0.0</td>\n      <td>NaN</td>\n      <td>1.0</td>\n      <td>NaN</td>\n      <td>NaN</td>\n      <td>NaN</td>\n      <td></td>\n    </tr>\n    <tr>\n      <th>4</th>\n      <td>Arbok</td>\n      <td>9.0</td>\n      <td>574.0</td>\n      <td>Naughty</td>\n      <td>1.0</td>\n      <td>Rate My Mon</td>\n      <td>574.0</td>\n      <td>0.0</td>\n      <td>Naughty</td>\n      <td>ArbokNaughty91</td>\n      <td>Speed of Help</td>\n      <td>Main Skill Chance</td>\n      <td>Poison</td>\n      <td>Berries</td>\n      <td>Charge Energy S</td>\n      <td>3700.0</td>\n      <td>32.0</td>\n      <td>Bean Sausage</td>\n      <td>103.0</td>\n      <td>1.00</td>\n      <td>1.09</td>\n      <td>0.26</td>\n      <td>0.05</td>\n      <td>80.0</td>\n      <td>103.0</td>\n      <td>400.0</td>\n      <td>3276.72</td>\n      <td>0.9</td>\n      <td>1.0</td>\n      <td>0.26</td>\n      <td>0.8</td>\n      <td>0.06</td>\n      <td>40</td>\n      <td>1</td>\n      <td>True</td>\n      <td>0.1200</td>\n      <td>0.4100</td>\n      <td>0.2600</td>\n      <td></td>\n      <td></td>\n      <td></td>\n      <td>0.0</td>\n      <td>0.0</td>\n      <td>NaN</td>\n      <td>1.0</td>\n      <td>NaN</td>\n      <td>NaN</td>\n      <td>NaN</td>\n      <td></td>\n    </tr>\n  </tbody>\n</table>\n</div>"
     },
     "execution_count": 5,
     "metadata": {},
     "output_type": "execute_result"
    }
   ],
   "source": [
    "data = pd.read_pickle(FitOptions.data_file)\n",
    "data.describe()\n",
    "data.head()"
   ]
  },
  {
   "cell_type": "code",
   "execution_count": 7,
   "id": "7ef7081c",
   "metadata": {
    "scrolled": true,
    "ExecuteTime": {
     "end_time": "2024-06-15T02:40:08.946848700Z",
     "start_time": "2024-06-15T02:40:08.802681Z"
    }
   },
   "outputs": [],
   "source": [
    "# Make an initial guess\n",
    "# Pack the dictionary into a 1-D vector.\n",
    "# Also store information on how to unpack that vector\n",
    "\n",
    "x0, unpack_info = pack(*make_initial_guess())\n",
    "computed = make_precomputed_columns(data)"
   ]
  },
  {
   "cell_type": "code",
   "execution_count": 8,
   "id": "2d6739e0",
   "metadata": {
    "scrolled": true,
    "ExecuteTime": {
     "end_time": "2024-06-15T02:40:08.946848700Z",
     "start_time": "2024-06-15T02:40:08.912090400Z"
    }
   },
   "outputs": [],
   "source": [
    "# We compute the RP model in rp_model.py\n",
    "# Here we create closure to glue the pieces together.\n",
    "\n",
    "def RP(x):\n",
    "    return compute_rp(x, data, computed, unpack_info)\n",
    "\n",
    "\n",
    "# for the error analysis page,\n",
    "# we'll compute the residual with exact rounding.\n",
    "\n",
    "def residual(x):\n",
    "    return data[\"RP\"] - np.round(RP(x))\n"
   ]
  },
  {
   "cell_type": "code",
   "execution_count": 9,
   "outputs": [
    {
     "ename": "AttributeError",
     "evalue": "type object 'FitOptions' has no attribute 'get_result_file'",
     "output_type": "error",
     "traceback": [
      "\u001B[1;31m---------------------------------------------------------------------------\u001B[0m",
      "\u001B[1;31mAttributeError\u001B[0m                            Traceback (most recent call last)",
      "Cell \u001B[1;32mIn[9], line 1\u001B[0m\n\u001B[1;32m----> 1\u001B[0m filename \u001B[38;5;241m=\u001B[39m \u001B[43mFitOptions\u001B[49m\u001B[38;5;241;43m.\u001B[39;49m\u001B[43mget_result_file\u001B[49m(digest(data, x0))\n\u001B[0;32m      2\u001B[0m opt \u001B[38;5;241m=\u001B[39m load(filename)\n\u001B[0;32m      3\u001B[0m opt\n",
      "\u001B[1;31mAttributeError\u001B[0m: type object 'FitOptions' has no attribute 'get_result_file'"
     ]
    }
   ],
   "source": [
    "store = (DataStore(FitOptions.result_file)\n",
    "         .with_dependency_on(data, x0)\n",
    "         .try_read_and_validate()\n",
    "         )\n",
    "\n",
    "opt = store.data()"
   ],
   "metadata": {
    "collapsed": false,
    "ExecuteTime": {
     "end_time": "2024-06-15T02:40:09.611010100Z",
     "start_time": "2024-06-15T02:40:08.927653600Z"
    }
   },
   "id": "4cafc4b62d63f441"
  },
  {
   "cell_type": "code",
   "execution_count": null,
   "outputs": [],
   "source": [
    "\n",
    "#FitOptions.soft_round.alpha = 18\n",
    "\n",
    "optx = opt.x\n",
    "result = solve(residual, optx, print_progress=True, maxfun=2200)\n"
   ],
   "metadata": {
    "collapsed": false
   },
   "id": "2e39ad4776d30b2"
  },
  {
   "cell_type": "code",
   "execution_count": null,
   "outputs": [],
   "source": [
    "table(result)"
   ],
   "metadata": {
    "collapsed": false
   },
   "id": "b0e262c95344c185"
  },
  {
   "cell_type": "code",
   "execution_count": null,
   "outputs": [],
   "source": [
    "r_opt = data[\"RP\"] - np.round(RP(result.x))\n",
    "pd.Series(r_opt).describe()\n",
    "\n",
    "_ = plt.figure()\n",
    "g = sns.histplot(x=np.clip(np.abs(r_opt), 1e-1, 1e3), log_scale=True, bins=20)\n",
    "g.axes.set_yscale('log')\n",
    "#_ = g.bar_label(g.containers[1], labels=[str(v) if v else '' for v in g.containers[1].datavalues])\n",
    "\n",
    "_ = plt.figure()\n",
    "g = sns.histplot(x=r_opt, discrete=1)\n",
    "_ = g.axes.set_yscale('log')\n",
    "#_ = g.bar_label(g.containers[1], labels=[str(v) if v else '' for v in g.containers[1].datavalues])"
   ],
   "metadata": {
    "collapsed": false
   },
   "id": "c95c53e4f7ae03e7"
  },
  {
   "cell_type": "code",
   "execution_count": null,
   "outputs": [],
   "source": [
    "\n",
    "# What are the worst points?\n",
    "\n",
    "df = data[[\"Pokemon\", \"ID\", \"Level\", \"MS lvl\", \"NatureP\", \"NatureN\", \"Sub Skill 1\", \"Sub Skill 2\", \"RP\"]].copy()\n",
    "\n",
    "df[\"fit\"] = RP(result.x)\n",
    "df[\"error\"] = data[\"RP\"] - np.round(RP(result.x))\n",
    "df[\"error2\"] = df[\"error\"] ** 2\n",
    "\n",
    "df = df.sort_values(\"error2\", ascending=False).reset_index(drop=True)\n",
    "df.head(100)\n"
   ],
   "metadata": {
    "collapsed": false
   },
   "id": "b5c7aa133da43942"
  }
 ],
 "metadata": {
  "kernelspec": {
   "display_name": "Python 3 (ipykernel)",
   "language": "python",
   "name": "python3"
  },
  "language_info": {
   "codemirror_mode": {
    "name": "ipython",
    "version": 3
   },
   "file_extension": ".py",
   "mimetype": "text/x-python",
   "name": "python",
   "nbconvert_exporter": "python",
   "pygments_lexer": "ipython3",
   "version": "3.8.17"
  }
 },
 "nbformat": 4,
 "nbformat_minor": 5
}
